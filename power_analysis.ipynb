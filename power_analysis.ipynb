{
 "cells": [
  {
   "cell_type": "code",
   "execution_count": 1,
   "metadata": {},
   "outputs": [],
   "source": [
    "import wmfdata as wmf"
   ]
  },
  {
   "cell_type": "code",
   "execution_count": 30,
   "metadata": {},
   "outputs": [],
   "source": [
    "QUERY = \"\"\"\n",
    "SELECT\n",
    "  FIRST(country) AS country,\n",
    "  LAST(app_version) as app_version,\n",
    "  AVG(pageviews) AS avg_daily_pageviews,\n",
    "  COUNT(*) AS days_active\n",
    "FROM (\n",
    "  SELECT\n",
    "    event.user_id AS user_id,\n",
    "    FIRST(geocoded_data['country']) AS country,\n",
    "    LAST(event.app_version) AS app_version,\n",
    "    COUNT(DISTINCT event.pageview_token) AS pageviews\n",
    "  FROM event.inukapageview\n",
    "  WHERE\n",
    "    year = 2021\n",
    "    AND (\n",
    "      month = 1 AND day >= 19\n",
    "      OR month = 2\n",
    "      OR month = 3 AND day < 2\n",
    "    )\n",
    "    AND event.client_type = \"kaios-app\"\n",
    "    AND NOT event.is_main_page\n",
    "    AND geocoded_data['country'] NOT IN (\"India\", \"United States\")\n",
    "  GROUP BY\n",
    "    event.user_id,\n",
    "    month, day\n",
    ") user_days\n",
    "GROUP BY user_id\n",
    "\"\"\"\n",
    "\n",
    "avg_daily_pageviews_per_user = wmf.spark.run(QUERY, session_type=\"yarn-large\")"
   ]
  },
  {
   "cell_type": "code",
   "execution_count": 31,
   "metadata": {},
   "outputs": [
    {
     "data": {
      "text/plain": [
       "app_version\n",
       "0.0.0          1309\n",
       "1.0.0           643\n",
       "1.0.0.1231       20\n",
       "1.1.0            63\n",
       "1.2.0         17853\n",
       "dtype: int64"
      ]
     },
     "execution_count": 31,
     "metadata": {},
     "output_type": "execute_result"
    }
   ],
   "source": [
    "avg_daily_pageviews_per_user.groupby('app_version').size()"
   ]
  },
  {
   "cell_type": "code",
   "execution_count": 33,
   "metadata": {},
   "outputs": [
    {
     "data": {
      "text/plain": [
       "country\n",
       "Uganda          3448\n",
       "Pakistan        3396\n",
       "Nigeria         2863\n",
       "Tanzania        2358\n",
       "Puerto Rico      802\n",
       "Portugal         694\n",
       "Cameroon         570\n",
       "Canada           406\n",
       "Egypt            347\n",
       "Mexico           321\n",
       "Ivory Coast      293\n",
       "DR Congo         250\n",
       "Russia           239\n",
       "Germany          230\n",
       "South Africa     218\n",
       "Madagascar       213\n",
       "Rwanda           188\n",
       "Zambia           185\n",
       "Mali             151\n",
       "Benin            146\n",
       "dtype: int64"
      ]
     },
     "execution_count": 33,
     "metadata": {},
     "output_type": "execute_result"
    }
   ],
   "source": [
    "avg_daily_pageviews_per_user.groupby(\"country\").size().sort_values(ascending=False).head(20)"
   ]
  },
  {
   "cell_type": "code",
   "execution_count": 35,
   "metadata": {},
   "outputs": [],
   "source": [
    "target_users = (\n",
    "  avg_daily_pageviews_per_user\n",
    "  .query(\n",
    "    \"country in ('Uganda', 'Pakistan', 'Nigeria', 'Tanzania') &\"\n",
    "    \"app_version == '1.2.0'\"\n",
    "  )\n",
    ")"
   ]
  },
  {
   "cell_type": "code",
   "execution_count": 38,
   "metadata": {},
   "outputs": [
    {
     "data": {
      "text/plain": [
       "12033"
      ]
     },
     "execution_count": 38,
     "metadata": {},
     "output_type": "execute_result"
    }
   ],
   "source": [
    "len(target_users)"
   ]
  },
  {
   "cell_type": "code",
   "execution_count": 39,
   "metadata": {},
   "outputs": [
    {
     "data": {
      "text/plain": [
       "3.81807134387336"
      ]
     },
     "execution_count": 39,
     "metadata": {},
     "output_type": "execute_result"
    }
   ],
   "source": [
    "target_users['avg_daily_pageviews'].mean()"
   ]
  },
  {
   "cell_type": "code",
   "execution_count": 28,
   "metadata": {},
   "outputs": [
    {
     "data": {
      "text/plain": [
       "4.256881261397582"
      ]
     },
     "execution_count": 28,
     "metadata": {},
     "output_type": "execute_result"
    }
   ],
   "source": [
    "target_users['avg_daily_pageviews'].std()"
   ]
  }
 ],
 "metadata": {
  "kernelspec": {
   "display_name": "Python 3",
   "language": "python",
   "name": "python3"
  },
  "language_info": {
   "codemirror_mode": {
    "name": "ipython",
    "version": 3
   },
   "file_extension": ".py",
   "mimetype": "text/x-python",
   "name": "python",
   "nbconvert_exporter": "python",
   "pygments_lexer": "ipython3",
   "version": "3.7.3"
  }
 },
 "nbformat": 4,
 "nbformat_minor": 4
}
