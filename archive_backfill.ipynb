{
 "cells": [
  {
   "cell_type": "code",
   "execution_count": 5,
   "metadata": {},
   "outputs": [],
   "source": [
    "import pandas as pd\n",
    "\n",
    "import trending_articles as ta"
   ]
  },
  {
   "cell_type": "code",
   "execution_count": 7,
   "metadata": {},
   "outputs": [
    {
     "name": "stderr",
     "output_type": "stream",
     "text": [
      "PySpark executors will use /usr/bin/python3.7.\n",
      "PySpark executors will use /usr/bin/python3.7.\n",
      "PySpark executors will use /usr/bin/python3.7.\n",
      "PySpark executors will use /usr/bin/python3.7.\n",
      "PySpark executors will use /usr/bin/python3.7.\n",
      "PySpark executors will use /usr/bin/python3.7.\n",
      "PySpark executors will use /usr/bin/python3.7.\n",
      "PySpark executors will use /usr/bin/python3.7.\n",
      "PySpark executors will use /usr/bin/python3.7.\n",
      "PySpark executors will use /usr/bin/python3.7.\n",
      "PySpark executors will use /usr/bin/python3.7.\n",
      "PySpark executors will use /usr/bin/python3.7.\n"
     ]
    }
   ],
   "source": [
    "archive = pd.read_csv(\"trending_articles.csv\", parse_dates=[\"date\"])\n",
    "\n",
    "days = pd.date_range(\"2021-03-26\", periods=3, freq=\"D\")\n",
    "for day in days:\n",
    "    archive = ta.update_lists(ta.LISTS, archive, day.year, day.month, day.day)"
   ]
  },
  {
   "cell_type": "code",
   "execution_count": 9,
   "metadata": {},
   "outputs": [],
   "source": [
    "(\n",
    "    archive\n",
    "    .drop_duplicates(subset=[\"date\", \"country\", \"rank\"])\n",
    "    .sort_values([\"date\", \"country\", \"rank\"])\n",
    "    .to_csv(\"trending_articles.csv\", index=False)\n",
    ")"
   ]
  },
  {
   "cell_type": "code",
   "execution_count": null,
   "metadata": {},
   "outputs": [],
   "source": []
  }
 ],
 "metadata": {
  "kernelspec": {
   "display_name": "Python 3",
   "language": "python",
   "name": "python3"
  },
  "language_info": {
   "codemirror_mode": {
    "name": "ipython",
    "version": 3
   },
   "file_extension": ".py",
   "mimetype": "text/x-python",
   "name": "python",
   "nbconvert_exporter": "python",
   "pygments_lexer": "ipython3",
   "version": "3.7.3"
  }
 },
 "nbformat": 4,
 "nbformat_minor": 4
}
