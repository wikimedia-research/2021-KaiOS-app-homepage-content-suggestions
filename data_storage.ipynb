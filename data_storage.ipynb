{
 "cells": [
  {
   "cell_type": "code",
   "execution_count": 1,
   "id": "c4655e68",
   "metadata": {},
   "outputs": [],
   "source": [
    "import wmfdata as wmf"
   ]
  },
  {
   "cell_type": "markdown",
   "id": "da4cd7da",
   "metadata": {},
   "source": [
    "The KaiOS app sends non-indentifying user data to the `inukapageview` event stream. During the experiment, participating installations mark their events using the `event.tests` fields. Since we usually only store the last 90 days of the `inukapageview` stream, I have stored all the data from the experiment in a separate table under an [exception to the data retention guidelines](https://meta.wikimedia.org/w/index.php?title=Data_retention_guidelines&diff=21837886&oldid=21410159) so we can do a full analysis before eventually deleting the stored data. "
   ]
  },
  {
   "cell_type": "markdown",
   "id": "b5ca55dc",
   "metadata": {},
   "source": [
    "Storage log:\n",
    "* 2021-07-29: stored data for \\[2021-05-06, 2021-07-27\\] in `neilpquinn.kaios_experiment_event`\n",
    "* 2021-09-07: stored data for \\[2021-07-28, 2021-09-05\\] in `neilpquinn.kaios_experiment_event`\n",
    "* 2021-10-21: stored data for \\[2021-07-23, 2021-10-20\\] in `nshahquinn.kaios_experiment_event` (with extra columns `dt` and `wiki`).\n",
    "* 2021-11-05: stored data for \\[2021-10-21, 2021-11-04\\] in `nshahquinn.kaios_experiment_event`\n",
    "* 2021-11-11: combined all existing data in `nshahquinn.kaios_experiment_event_combined` (see work log).\n",
    "* 2022-01-07: stored data for \\[2021-11-05, 2022-01-06\\] in `nshahquinn.kaios_experiment_event_combined`\n",
    "* 2022-01-08: stored data for 2022-01-07 in `nshahquinn.kaios_experiment_event_combined`."
   ]
  },
  {
   "cell_type": "code",
   "execution_count": 2,
   "id": "59b28631",
   "metadata": {},
   "outputs": [],
   "source": [
    "SPARK_PARTITION_DATE = (\n",
    "    \"CONCAT(\"\n",
    "        \"CAST(year AS STRING), '-', \"\n",
    "        \"LPAD(CAST(month AS STRING), 2, '0'), '-', \"\n",
    "        \"LPAD(CAST(day AS STRING), 2, '0')\"\n",
    "    \")\"\n",
    ")\n",
    "\n",
    "# Both start and end dates are included\n",
    "START_DATE = \"2022-01-07\"\n",
    "END_DATE = \"2022-01-07\""
   ]
  },
  {
   "cell_type": "code",
   "execution_count": 3,
   "id": "4329f251",
   "metadata": {},
   "outputs": [
    {
     "name": "stderr",
     "output_type": "stream",
     "text": [
      "PySpark executors will use /usr/lib/anaconda-wmf/bin/python3.\n"
     ]
    },
    {
     "name": "stdout",
     "output_type": "stream",
     "text": [
      "PYSPARK_PYTHON=/usr/lib/anaconda-wmf/bin/python3\n"
     ]
    },
    {
     "name": "stderr",
     "output_type": "stream",
     "text": [
      "SLF4J: Class path contains multiple SLF4J bindings.\n",
      "SLF4J: Found binding in [jar:file:/usr/lib/spark2/jars/slf4j-log4j12-1.7.16.jar!/org/slf4j/impl/StaticLoggerBinder.class]\n",
      "SLF4J: Found binding in [jar:file:/usr/lib/hadoop/lib/slf4j-log4j12-1.7.25.jar!/org/slf4j/impl/StaticLoggerBinder.class]\n",
      "SLF4J: See http://www.slf4j.org/codes.html#multiple_bindings for an explanation.\n",
      "SLF4J: Actual binding is of type [org.slf4j.impl.Log4jLoggerFactory]\n",
      "Setting default log level to \"WARN\".\n",
      "To adjust logging level use sc.setLogLevel(newLevel). For SparkR, use setLogLevel(newLevel).\n",
      "22/01/08 23:47:01 WARN SparkConf: Note that spark.local.dir will be overridden by the value set by the cluster manager (via SPARK_LOCAL_DIRS in mesos/standalone/kubernetes and LOCAL_DIRS in YARN).\n",
      "22/01/08 23:47:01 WARN Utils: Service 'sparkDriver' could not bind on port 12000. Attempting port 12001.\n",
      "22/01/08 23:47:02 WARN Utils: Service 'SparkUI' could not bind on port 4040. Attempting port 4041.\n",
      "22/01/08 23:47:11 WARN Utils: Service 'org.apache.spark.network.netty.NettyBlockTransferService' could not bind on port 13000. Attempting port 13001.\n",
      "                                                                                \r"
     ]
    }
   ],
   "source": [
    "wmf.spark.run(f\"\"\"\n",
    "INSERT INTO TABLE nshahquinn.kaios_experiment_event_combined\n",
    "SELECT\n",
    "    TO_TIMESTAMP(client_dt) AS client_dt,\n",
    "    TO_TIMESTAMP(meta.dt) AS server_dt,\n",
    "    event.pageview_token AS pageview_id,\n",
    "    event.session_id AS session_id,\n",
    "    event.user_id AS user_id,\n",
    "    event.load_dt AS load_dt,\n",
    "    event.page_open_time AS page_open_time,\n",
    "    event.page_visible_time AS page_visible_time,\n",
    "    event.section_count AS section_count,\n",
    "    event.opened_section_count AS opened_section_count,\n",
    "    event.is_main_page AS is_main_page,\n",
    "    event.page_namespace AS page_namespace,\n",
    "    wiki,\n",
    "    event.tests[0].`group` AS experiment_group,\n",
    "    geocoded_data[\"country_code\"] AS country,\n",
    "    geocoded_data[\"subdivision\"] AS country_subdivision,\n",
    "    event.app_version AS app_version\n",
    "FROM event.inukapageview\n",
    "WHERE\n",
    "    {SPARK_PARTITION_DATE} BETWEEN '{START_DATE}' AND '{END_DATE}'\n",
    "    AND SIZE(event.tests) > 0\n",
    "    AND event.is_production\n",
    "\"\"\")"
   ]
  }
 ],
 "metadata": {
  "kernelspec": {
   "display_name": "Python 3 (ipykernel)",
   "language": "python",
   "name": "python3"
  },
  "language_info": {
   "codemirror_mode": {
    "name": "ipython",
    "version": 3
   },
   "file_extension": ".py",
   "mimetype": "text/x-python",
   "name": "python",
   "nbconvert_exporter": "python",
   "pygments_lexer": "ipython3",
   "version": "3.7.11"
  }
 },
 "nbformat": 4,
 "nbformat_minor": 5
}
