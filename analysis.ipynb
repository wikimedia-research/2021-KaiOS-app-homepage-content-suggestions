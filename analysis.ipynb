{
 "cells": [
  {
   "cell_type": "code",
   "execution_count": 2,
   "id": "c7f3d3ae",
   "metadata": {},
   "outputs": [],
   "source": [
    "import arviz\n",
    "import bambi\n",
    "import matplotlib.pyplot as plt\n",
    "import pandas as pd\n",
    "import pymc3 as pm\n",
    "import scipy.stats as ss\n",
    "\n",
    "import wmfdata as wmf"
   ]
  },
  {
   "cell_type": "code",
   "execution_count": 3,
   "id": "ac083cea",
   "metadata": {
    "tags": []
   },
   "outputs": [],
   "source": [
    "wmf.charting.set_mpl_style()"
   ]
  },
  {
   "cell_type": "code",
   "execution_count": 4,
   "id": "6b14ad05",
   "metadata": {},
   "outputs": [],
   "source": [
    "user = pd.read_parquet(\"data/2022-01-06_experiment_user.parquet\")"
   ]
  },
  {
   "cell_type": "markdown",
   "id": "b408915c",
   "metadata": {},
   "source": [
    "# Basic tests"
   ]
  },
  {
   "cell_type": "code",
   "execution_count": 5,
   "id": "e3a6c3bc",
   "metadata": {},
   "outputs": [],
   "source": [
    "control_user = user.query(\"experiment_group == 'control'\")\n",
    "trending_articles_user = user.query(\"experiment_group == 'trending-articles'\")"
   ]
  },
  {
   "cell_type": "code",
   "execution_count": 6,
   "id": "77ab22fb",
   "metadata": {},
   "outputs": [
    {
     "name": "stdout",
     "output_type": "stream",
     "text": [
      "Control mean session length: 2.16 min\n",
      "Trending articles mean session length: 2.51 min\n",
      "Trending advantage: 16.1%\n"
     ]
    }
   ],
   "source": [
    "control_mean_session_min = control_user['mean_session_min'].mean()\n",
    "trending_mean_session_min = trending_articles_user['mean_session_min'].mean()\n",
    "trending_advantage = trending_mean_session_min / control_mean_session_min\n",
    "\n",
    "print(f\"Control mean session length: {round(control_mean_session_min, 2)} min\")\n",
    "print(f\"Trending articles mean session length: {round(trending_mean_session_min, 2)} min\")\n",
    "print(f\"Trending advantage: {wmf.utils.pct_str(trending_advantage - 1)}\")"
   ]
  },
  {
   "cell_type": "code",
   "execution_count": 7,
   "id": "dbd35949",
   "metadata": {},
   "outputs": [
    {
     "data": {
      "text/plain": [
       "Ttest_indResult(statistic=-13.876562249255562, pvalue=9.537009333302198e-44)"
      ]
     },
     "execution_count": 7,
     "metadata": {},
     "output_type": "execute_result"
    }
   ],
   "source": [
    "ss.ttest_ind(control_user[\"mean_session_min\"], trending_articles_user[\"mean_session_min\"], equal_var=False)"
   ]
  },
  {
   "cell_type": "code",
   "execution_count": 8,
   "id": "edfb2916",
   "metadata": {},
   "outputs": [
    {
     "name": "stdout",
     "output_type": "stream",
     "text": [
      "Control mean sessions: 2.115\n",
      "Trending articles mean sessions: 2.181\n",
      "Trending advantage: 3.1%\n"
     ]
    }
   ],
   "source": [
    "control_mean_sessions = control_user['sessions'].mean()\n",
    "trending_mean_sessions = trending_articles_user['sessions'].mean()\n",
    "trending_advantage = trending_mean_sessions / control_mean_sessions\n",
    "\n",
    "print(f\"Control mean sessions: {round(control_mean_sessions, 3)}\")\n",
    "print(f\"Trending articles mean sessions: {round(trending_mean_sessions, 3)}\")\n",
    "print(f\"Trending advantage: {wmf.utils.pct_str(trending_advantage - 1)}\")"
   ]
  },
  {
   "cell_type": "code",
   "execution_count": 9,
   "id": "1695f952",
   "metadata": {},
   "outputs": [
    {
     "data": {
      "text/plain": [
       "Ttest_indResult(statistic=-2.9531841871417894, pvalue=0.003145790964003159)"
      ]
     },
     "execution_count": 9,
     "metadata": {},
     "output_type": "execute_result"
    }
   ],
   "source": [
    "ss.ttest_ind(control_user[\"sessions\"], trending_articles_user[\"sessions\"], equal_var=False)"
   ]
  },
  {
   "cell_type": "code",
   "execution_count": 10,
   "id": "9d16f72e",
   "metadata": {
    "tags": []
   },
   "outputs": [
    {
     "data": {
      "text/plain": [
       "MannwhitneyuResult(statistic=1666602340.0, pvalue=1.5950887309004725e-05)"
      ]
     },
     "execution_count": 10,
     "metadata": {},
     "output_type": "execute_result"
    }
   ],
   "source": [
    "ss.mannwhitneyu(control_user[\"sessions\"], trending_articles_user[\"sessions\"])"
   ]
  },
  {
   "cell_type": "code",
   "execution_count": 11,
   "id": "9e1d1cef",
   "metadata": {},
   "outputs": [],
   "source": [
    "user[\"total_session_time\"] = user[\"sessions\"] * user[\"mean_session_min\"]"
   ]
  },
  {
   "cell_type": "code",
   "execution_count": 12,
   "id": "f775fb25",
   "metadata": {},
   "outputs": [
    {
     "data": {
      "text/html": [
       "<div>\n",
       "<style scoped>\n",
       "    .dataframe tbody tr th:only-of-type {\n",
       "        vertical-align: middle;\n",
       "    }\n",
       "\n",
       "    .dataframe tbody tr th {\n",
       "        vertical-align: top;\n",
       "    }\n",
       "\n",
       "    .dataframe thead th {\n",
       "        text-align: right;\n",
       "    }\n",
       "</style>\n",
       "<table border=\"1\" class=\"dataframe\">\n",
       "  <thead>\n",
       "    <tr style=\"text-align: right;\">\n",
       "      <th>country</th>\n",
       "      <th>NG</th>\n",
       "      <th>PK</th>\n",
       "      <th>TZ</th>\n",
       "      <th>UG</th>\n",
       "    </tr>\n",
       "    <tr>\n",
       "      <th>experiment_group</th>\n",
       "      <th></th>\n",
       "      <th></th>\n",
       "      <th></th>\n",
       "      <th></th>\n",
       "    </tr>\n",
       "  </thead>\n",
       "  <tbody>\n",
       "    <tr>\n",
       "      <th>control</th>\n",
       "      <td>2.829459</td>\n",
       "      <td>1.689852</td>\n",
       "      <td>2.169582</td>\n",
       "      <td>2.675613</td>\n",
       "    </tr>\n",
       "    <tr>\n",
       "      <th>trending-articles</th>\n",
       "      <td>2.889162</td>\n",
       "      <td>1.678041</td>\n",
       "      <td>2.269816</td>\n",
       "      <td>2.920829</td>\n",
       "    </tr>\n",
       "  </tbody>\n",
       "</table>\n",
       "</div>"
      ],
      "text/plain": [
       "country                  NG        PK        TZ        UG\n",
       "experiment_group                                         \n",
       "control            2.829459  1.689852  2.169582  2.675613\n",
       "trending-articles  2.889162  1.678041  2.269816  2.920829"
      ]
     },
     "execution_count": 12,
     "metadata": {},
     "output_type": "execute_result"
    }
   ],
   "source": [
    "user.groupby([\"experiment_group\", \"country\"])[\"sessions\"].mean().unstack()"
   ]
  },
  {
   "cell_type": "code",
   "execution_count": 13,
   "id": "30f7b5d9",
   "metadata": {},
   "outputs": [
    {
     "data": {
      "text/html": [
       "<div>\n",
       "<style scoped>\n",
       "    .dataframe tbody tr th:only-of-type {\n",
       "        vertical-align: middle;\n",
       "    }\n",
       "\n",
       "    .dataframe tbody tr th {\n",
       "        vertical-align: top;\n",
       "    }\n",
       "\n",
       "    .dataframe thead th {\n",
       "        text-align: right;\n",
       "    }\n",
       "</style>\n",
       "<table border=\"1\" class=\"dataframe\">\n",
       "  <thead>\n",
       "    <tr style=\"text-align: right;\">\n",
       "      <th>country</th>\n",
       "      <th>NG</th>\n",
       "      <th>PK</th>\n",
       "      <th>TZ</th>\n",
       "      <th>UG</th>\n",
       "    </tr>\n",
       "    <tr>\n",
       "      <th>experiment_group</th>\n",
       "      <th></th>\n",
       "      <th></th>\n",
       "      <th></th>\n",
       "      <th></th>\n",
       "    </tr>\n",
       "  </thead>\n",
       "  <tbody>\n",
       "    <tr>\n",
       "      <th>control</th>\n",
       "      <td>3.625423</td>\n",
       "      <td>1.479766</td>\n",
       "      <td>2.158127</td>\n",
       "      <td>2.929637</td>\n",
       "    </tr>\n",
       "    <tr>\n",
       "      <th>trending-articles</th>\n",
       "      <td>4.050836</td>\n",
       "      <td>1.591182</td>\n",
       "      <td>2.643597</td>\n",
       "      <td>3.642461</td>\n",
       "    </tr>\n",
       "  </tbody>\n",
       "</table>\n",
       "</div>"
      ],
      "text/plain": [
       "country                  NG        PK        TZ        UG\n",
       "experiment_group                                         \n",
       "control            3.625423  1.479766  2.158127  2.929637\n",
       "trending-articles  4.050836  1.591182  2.643597  3.642461"
      ]
     },
     "execution_count": 13,
     "metadata": {},
     "output_type": "execute_result"
    }
   ],
   "source": [
    "user.groupby([\"experiment_group\", \"country\"])[\"mean_session_min\"].mean().unstack()"
   ]
  },
  {
   "cell_type": "markdown",
   "id": "183805e8",
   "metadata": {},
   "source": [
    "## Basic tests, known enwiki users only\n",
    "Users with their language set to something other than English did not see any recommendations, so ideally we would analyze only those users who we knew consistently used English.\n",
    "\n",
    "However, since we only started storing the `wiki` field partway through, these known English users only amount to about one third of our total users, even though the true proportion of consistent English user is about 90%."
   ]
  },
  {
   "cell_type": "code",
   "execution_count": 14,
   "id": "feb8448e",
   "metadata": {},
   "outputs": [
    {
     "data": {
      "text/plain": [
       "116233"
      ]
     },
     "execution_count": 14,
     "metadata": {},
     "output_type": "execute_result"
    }
   ],
   "source": [
    "len(user)"
   ]
  },
  {
   "cell_type": "code",
   "execution_count": 15,
   "id": "ea3cfd15",
   "metadata": {},
   "outputs": [
    {
     "data": {
      "text/plain": [
       "wiki\n",
       "                        54553\n",
       "enwiki                  45277\n",
       "-enwiki                  5417\n",
       "enwiki-                  5197\n",
       "swwiki                    464\n",
       "urwiki                    255\n",
       "swwiki-enwiki             223\n",
       "enwiki-swwiki             216\n",
       "enwiki-dewiki             188\n",
       "-swwiki                   174\n",
       "swwiki-                   136\n",
       "enwiki-urwiki             133\n",
       "urwiki-enwiki             106\n",
       "frwiki                    100\n",
       "enwiki-enwiki-dewiki       95\n",
       "enwiki-enwiki-swwiki       88\n",
       "swwiki-swwiki-enwiki       82\n",
       "enwiki-swwiki-enwiki       76\n",
       "enwiki-dewiki-enwiki       74\n",
       "swwiki-enwiki-swwiki       72\n",
       "dtype: int64"
      ]
     },
     "execution_count": 15,
     "metadata": {},
     "output_type": "execute_result"
    }
   ],
   "source": [
    "user.groupby(\"wiki\").size().sort_values(ascending=False).head(20)"
   ]
  },
  {
   "cell_type": "code",
   "execution_count": 16,
   "id": "7f6fd9fb",
   "metadata": {},
   "outputs": [],
   "source": [
    "enwiki_user = user.query(\"wiki == 'enwiki'\")\n",
    "enwiki_control_user = enwiki_user.query(\"experiment_group == 'control'\")\n",
    "enwiki_trending_articles_user = enwiki_user.query(\"experiment_group == 'trending-articles'\")"
   ]
  },
  {
   "cell_type": "code",
   "execution_count": 17,
   "id": "d219d94e",
   "metadata": {},
   "outputs": [
    {
     "name": "stdout",
     "output_type": "stream",
     "text": [
      "Control mean session length: 2.01 min\n",
      "Trending articles mean session length: 2.38 min\n",
      "Trending advantage: 18.3%\n"
     ]
    }
   ],
   "source": [
    "control_mean_session_min = enwiki_control_user['mean_session_min'].mean()\n",
    "trending_mean_session_min = enwiki_trending_articles_user['mean_session_min'].mean()\n",
    "trending_advantage = trending_mean_session_min / control_mean_session_min\n",
    "\n",
    "print(f\"Control mean session length: {round(control_mean_session_min, 2)} min\")\n",
    "print(f\"Trending articles mean session length: {round(trending_mean_session_min, 2)} min\")\n",
    "print(f\"Trending advantage: {wmf.utils.pct_str(trending_advantage - 1)}\")"
   ]
  },
  {
   "cell_type": "code",
   "execution_count": 53,
   "id": "c49535d7",
   "metadata": {},
   "outputs": [
    {
     "data": {
      "text/plain": [
       "Ttest_indResult(statistic=-7.553810404259041, pvalue=4.329201831300405e-14)"
      ]
     },
     "execution_count": 53,
     "metadata": {},
     "output_type": "execute_result"
    }
   ],
   "source": [
    "ss.ttest_ind(\n",
    "    enwiki_control_user[\"mean_session_min\"],\n",
    "    enwiki_trending_articles_user[\"mean_session_min\"],\n",
    "    equal_var=False\n",
    ")"
   ]
  },
  {
   "cell_type": "code",
   "execution_count": 55,
   "id": "ea773990",
   "metadata": {},
   "outputs": [
    {
     "name": "stdout",
     "output_type": "stream",
     "text": [
      "Control mean sessions: 1.781\n",
      "Trending articles mean sessions: 1.812\n",
      "Trending advantage: 1.7%\n"
     ]
    }
   ],
   "source": [
    "control_mean_sessions = enwiki_control_user['sessions'].mean()\n",
    "trending_mean_sessions = enwiki_trending_articles_user['sessions'].mean()\n",
    "trending_advantage = trending_mean_sessions / control_mean_sessions\n",
    "\n",
    "print(f\"Control mean sessions: {round(control_mean_sessions, 3)}\")\n",
    "print(f\"Trending articles mean sessions: {round(trending_mean_sessions, 3)}\")\n",
    "print(f\"Trending advantage: {wmf.utils.pct_str(trending_advantage - 1)}\")"
   ]
  },
  {
   "cell_type": "code",
   "execution_count": 58,
   "id": "cc0d5a5d",
   "metadata": {},
   "outputs": [
    {
     "data": {
      "text/plain": [
       "Ttest_indResult(statistic=-1.4980319059941398, pvalue=0.13413337276886597)"
      ]
     },
     "execution_count": 58,
     "metadata": {},
     "output_type": "execute_result"
    }
   ],
   "source": [
    "ss.ttest_ind(\n",
    "    enwiki_control_user[\"sessions\"],\n",
    "    enwiki_trending_articles_user[\"sessions\"],\n",
    "    equal_var=False\n",
    ")"
   ]
  },
  {
   "cell_type": "code",
   "execution_count": 59,
   "id": "aebdbf93",
   "metadata": {
    "tags": []
   },
   "outputs": [
    {
     "data": {
      "text/plain": [
       "MannwhitneyuResult(statistic=175720176.5, pvalue=0.005344726184725063)"
      ]
     },
     "execution_count": 59,
     "metadata": {},
     "output_type": "execute_result"
    }
   ],
   "source": [
    "ss.mannwhitneyu(\n",
    "    enwiki_control_user[\"sessions\"],\n",
    "    enwiki_trending_articles_user[\"sessions\"]\n",
    ")"
   ]
  }
 ],
 "metadata": {
  "kernelspec": {
   "display_name": "Python 3 (ipykernel)",
   "language": "python",
   "name": "python3"
  },
  "language_info": {
   "codemirror_mode": {
    "name": "ipython",
    "version": 3
   },
   "file_extension": ".py",
   "mimetype": "text/x-python",
   "name": "python",
   "nbconvert_exporter": "python",
   "pygments_lexer": "ipython3",
   "version": "3.7.11"
  },
  "toc-autonumbering": false,
  "toc-showcode": false
 },
 "nbformat": 4,
 "nbformat_minor": 5
}
