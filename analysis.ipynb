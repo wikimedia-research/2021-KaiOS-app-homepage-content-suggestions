{
 "cells": [
  {
   "cell_type": "code",
   "execution_count": 1,
   "id": "1407c0fa",
   "metadata": {},
   "outputs": [],
   "source": [
    "from inspect import cleandoc\n",
    "import pandas as pd\n",
    "import scipy.stats as ss\n",
    "\n",
    "import wmfdata as wmf\n",
    "from wmfdata.utils import pct_str"
   ]
  },
  {
   "cell_type": "code",
   "execution_count": 2,
   "id": "2ecebff6",
   "metadata": {},
   "outputs": [],
   "source": [
    "user = pd.read_parquet(\"data/2022-03-07_experiment_user.parquet\")"
   ]
  },
  {
   "cell_type": "code",
   "execution_count": 3,
   "id": "e02c7af0",
   "metadata": {},
   "outputs": [],
   "source": [
    "def ttest(name, df, col):\n",
    "    control = df.query(\"experiment_group == 'control'\")\n",
    "    trending = df.query(\"experiment_group == 'trending-articles'\")\n",
    "    control_mean = control[col].mean()\n",
    "    trending_mean = trending[col].mean()\n",
    "    trending_advantage = trending_mean / control_mean - 1\n",
    "    \n",
    "    output = f\"\"\"\n",
    "    {name}\n",
    "        Control mean: {round(control_mean, 2)}\n",
    "        Trending mean: {round(trending_mean, 2)}\n",
    "        Trending advantage: {pct_str(trending_advantage)}\n",
    "        {ss.ttest_ind(control[col], trending[col], equal_var=False)}\n",
    "    \"\"\"\n",
    "    \n",
    "    print(cleandoc(output))"
   ]
  },
  {
   "cell_type": "markdown",
   "id": "0d2fc109",
   "metadata": {},
   "source": [
    "## Basic tests"
   ]
  },
  {
   "cell_type": "code",
   "execution_count": 4,
   "id": "b36a5fe2",
   "metadata": {},
   "outputs": [
    {
     "name": "stdout",
     "output_type": "stream",
     "text": [
      "Session length (min)\n",
      "    Control mean: 2.16\n",
      "    Trending mean: 2.51\n",
      "    Trending advantage: 16.2%\n",
      "    Ttest_indResult(statistic=-13.93857256553007, pvalue=4.013745333720957e-44)\n"
     ]
    }
   ],
   "source": [
    "ttest(\"Session length (min)\", user, \"mean_session_min\")"
   ]
  },
  {
   "cell_type": "code",
   "execution_count": 5,
   "id": "9ba1182f",
   "metadata": {},
   "outputs": [
    {
     "name": "stdout",
     "output_type": "stream",
     "text": [
      "Sessions\n",
      "    Control mean: 2.12\n",
      "    Trending mean: 2.18\n",
      "    Trending advantage: 3.1%\n",
      "    Ttest_indResult(statistic=-2.941168742951041, pvalue=0.003270426330140515)\n"
     ]
    }
   ],
   "source": [
    "ttest(\"Sessions\", user, \"sessions\")"
   ]
  },
  {
   "cell_type": "markdown",
   "id": "8ce628ea",
   "metadata": {},
   "source": [
    "## Basic tests, known enwiki users only\n",
    "Users with their language set to something other than English did not see any recommendations, so ideally we would analyze only those users who we knew consistently used English.\n",
    "\n",
    "However, since we only started storing the `wiki` field partway through, these known English users only amount to about 40% of our total users, even though the true proportion of consistent English user is about 90%."
   ]
  },
  {
   "cell_type": "code",
   "execution_count": 6,
   "id": "5dbc6c70",
   "metadata": {},
   "outputs": [
    {
     "data": {
      "text/plain": [
       "116420"
      ]
     },
     "execution_count": 6,
     "metadata": {},
     "output_type": "execute_result"
    }
   ],
   "source": [
    "len(user)"
   ]
  },
  {
   "cell_type": "code",
   "execution_count": 7,
   "id": "d669f461",
   "metadata": {},
   "outputs": [
    {
     "data": {
      "text/plain": [
       "wiki\n",
       "                        54543\n",
       "enwiki                  45441\n",
       "-enwiki                  5477\n",
       "enwiki-                  5146\n",
       "swwiki                    465\n",
       "urwiki                    255\n",
       "enwiki-swwiki             245\n",
       "swwiki-enwiki             202\n",
       "enwiki-dewiki             172\n",
       "-swwiki                   168\n",
       "swwiki-                   142\n",
       "enwiki-urwiki             132\n",
       "urwiki-enwiki             106\n",
       "frwiki                    101\n",
       "enwiki-enwiki-dewiki       88\n",
       "swwiki-swwiki-enwiki       82\n",
       "enwiki-enwiki-swwiki       81\n",
       "enwiki-dewiki-enwiki       79\n",
       "enwiki-swwiki-enwiki       77\n",
       "swwiki-enwiki-swwiki       76\n",
       "dtype: int64"
      ]
     },
     "execution_count": 7,
     "metadata": {},
     "output_type": "execute_result"
    }
   ],
   "source": [
    "user.groupby(\"wiki\").size().sort_values(ascending=False).head(20)"
   ]
  },
  {
   "cell_type": "code",
   "execution_count": 8,
   "id": "9fe6effa",
   "metadata": {},
   "outputs": [],
   "source": [
    "enwiki_user = user.query(\"wiki == 'enwiki'\")"
   ]
  },
  {
   "cell_type": "code",
   "execution_count": 9,
   "id": "4e367480",
   "metadata": {},
   "outputs": [
    {
     "name": "stdout",
     "output_type": "stream",
     "text": [
      "Session length (min)\n",
      "    Control mean: 2.01\n",
      "    Trending mean: 2.38\n",
      "    Trending advantage: 18.5%\n",
      "    Ttest_indResult(statistic=-9.35226749245592, pvalue=8.98847828993865e-21)\n"
     ]
    }
   ],
   "source": [
    "ttest(\"Session length (min)\", enwiki_user, \"mean_session_min\")"
   ]
  },
  {
   "cell_type": "code",
   "execution_count": 10,
   "id": "38c2e47e",
   "metadata": {},
   "outputs": [
    {
     "name": "stdout",
     "output_type": "stream",
     "text": [
      "Sessions\n",
      "    Control mean: 1.88\n",
      "    Trending mean: 1.93\n",
      "    Trending advantage: 2.7%\n",
      "    Ttest_indResult(statistic=-1.965069188684298, pvalue=0.04941260124191154)\n"
     ]
    }
   ],
   "source": [
    "ttest(\"Sessions\", enwiki_user, \"sessions\")"
   ]
  },
  {
   "cell_type": "markdown",
   "id": "04505381",
   "metadata": {},
   "source": [
    "## Deeper analysis"
   ]
  },
  {
   "cell_type": "markdown",
   "id": "a3f89abc",
   "metadata": {},
   "source": [
    "Interestingly (and contrary to my initial impression), there is significant variation between countries.\n",
    "\n",
    "Some possible reasons are varying qualities of the recommendations (although my general impression was that the recommendations for Pakistan, Tanzania, and Uganda were quite good and the ones for Nigeria somewhat worse, which doesn't really align with the variation seen here), differences in the proportions of installs that were organic instead of ad-driven, or differences in the makeup of KaiOS users in each country."
   ]
  },
  {
   "cell_type": "markdown",
   "id": "4ad68020",
   "metadata": {},
   "source": [
    "### Comparing countries"
   ]
  },
  {
   "cell_type": "code",
   "execution_count": 12,
   "id": "72130e0d",
   "metadata": {},
   "outputs": [
    {
     "data": {
      "text/html": [
       "<div>\n",
       "<style scoped>\n",
       "    .dataframe tbody tr th:only-of-type {\n",
       "        vertical-align: middle;\n",
       "    }\n",
       "\n",
       "    .dataframe tbody tr th {\n",
       "        vertical-align: top;\n",
       "    }\n",
       "\n",
       "    .dataframe thead th {\n",
       "        text-align: right;\n",
       "    }\n",
       "</style>\n",
       "<table border=\"1\" class=\"dataframe\">\n",
       "  <thead>\n",
       "    <tr style=\"text-align: right;\">\n",
       "      <th>country</th>\n",
       "      <th>NG</th>\n",
       "      <th>PK</th>\n",
       "      <th>TZ</th>\n",
       "      <th>UG</th>\n",
       "    </tr>\n",
       "    <tr>\n",
       "      <th>experiment_group</th>\n",
       "      <th></th>\n",
       "      <th></th>\n",
       "      <th></th>\n",
       "      <th></th>\n",
       "    </tr>\n",
       "  </thead>\n",
       "  <tbody>\n",
       "    <tr>\n",
       "      <th>control</th>\n",
       "      <td>2.82970</td>\n",
       "      <td>1.690294</td>\n",
       "      <td>2.170552</td>\n",
       "      <td>2.677971</td>\n",
       "    </tr>\n",
       "    <tr>\n",
       "      <th>trending-articles</th>\n",
       "      <td>2.89025</td>\n",
       "      <td>1.677969</td>\n",
       "      <td>2.270477</td>\n",
       "      <td>2.922993</td>\n",
       "    </tr>\n",
       "  </tbody>\n",
       "</table>\n",
       "</div>"
      ],
      "text/plain": [
       "country                 NG        PK        TZ        UG\n",
       "experiment_group                                        \n",
       "control            2.82970  1.690294  2.170552  2.677971\n",
       "trending-articles  2.89025  1.677969  2.270477  2.922993"
      ]
     },
     "execution_count": 12,
     "metadata": {},
     "output_type": "execute_result"
    }
   ],
   "source": [
    "user.groupby([\"experiment_group\", \"country\"])[\"sessions\"].mean().unstack()"
   ]
  },
  {
   "cell_type": "code",
   "execution_count": 13,
   "id": "8c64a9f3",
   "metadata": {},
   "outputs": [
    {
     "name": "stdout",
     "output_type": "stream",
     "text": [
      "SESSIONS\n",
      "NG\n",
      "    Control mean: 2.83\n",
      "    Trending mean: 2.89\n",
      "    Trending advantage: 2.1%\n",
      "    Ttest_indResult(statistic=-0.4868598905980566, pvalue=0.626364798576808)\n",
      "PK\n",
      "    Control mean: 1.69\n",
      "    Trending mean: 1.68\n",
      "    Trending advantage: -0.7%\n",
      "    Ttest_indResult(statistic=0.6586818935099917, pvalue=0.5101030998810226)\n",
      "TZ\n",
      "    Control mean: 2.17\n",
      "    Trending mean: 2.27\n",
      "    Trending advantage: 4.6%\n",
      "    Ttest_indResult(statistic=-3.439965308622941, pvalue=0.0005824441912062435)\n",
      "UG\n",
      "    Control mean: 2.68\n",
      "    Trending mean: 2.92\n",
      "    Trending advantage: 9.1%\n",
      "    Ttest_indResult(statistic=-3.520812693878272, pvalue=0.00043165079623369557)\n"
     ]
    }
   ],
   "source": [
    "print(\"SESSIONS\")\n",
    "for name, group in user.groupby(\"country\"):\n",
    "    ttest(name, group, \"sessions\")"
   ]
  },
  {
   "cell_type": "code",
   "execution_count": 14,
   "id": "b8fccde9",
   "metadata": {},
   "outputs": [
    {
     "data": {
      "text/html": [
       "<div>\n",
       "<style scoped>\n",
       "    .dataframe tbody tr th:only-of-type {\n",
       "        vertical-align: middle;\n",
       "    }\n",
       "\n",
       "    .dataframe tbody tr th {\n",
       "        vertical-align: top;\n",
       "    }\n",
       "\n",
       "    .dataframe thead th {\n",
       "        text-align: right;\n",
       "    }\n",
       "</style>\n",
       "<table border=\"1\" class=\"dataframe\">\n",
       "  <thead>\n",
       "    <tr style=\"text-align: right;\">\n",
       "      <th>country</th>\n",
       "      <th>NG</th>\n",
       "      <th>PK</th>\n",
       "      <th>TZ</th>\n",
       "      <th>UG</th>\n",
       "    </tr>\n",
       "    <tr>\n",
       "      <th>experiment_group</th>\n",
       "      <th></th>\n",
       "      <th></th>\n",
       "      <th></th>\n",
       "      <th></th>\n",
       "    </tr>\n",
       "  </thead>\n",
       "  <tbody>\n",
       "    <tr>\n",
       "      <th>control</th>\n",
       "      <td>3.620569</td>\n",
       "      <td>1.480431</td>\n",
       "      <td>2.159232</td>\n",
       "      <td>2.931609</td>\n",
       "    </tr>\n",
       "    <tr>\n",
       "      <th>trending-articles</th>\n",
       "      <td>4.054853</td>\n",
       "      <td>1.591920</td>\n",
       "      <td>2.643883</td>\n",
       "      <td>3.646966</td>\n",
       "    </tr>\n",
       "  </tbody>\n",
       "</table>\n",
       "</div>"
      ],
      "text/plain": [
       "country                  NG        PK        TZ        UG\n",
       "experiment_group                                         \n",
       "control            3.620569  1.480431  2.159232  2.931609\n",
       "trending-articles  4.054853  1.591920  2.643883  3.646966"
      ]
     },
     "execution_count": 14,
     "metadata": {},
     "output_type": "execute_result"
    }
   ],
   "source": [
    "user.groupby([\"experiment_group\", \"country\"])[\"mean_session_min\"].mean().unstack()"
   ]
  },
  {
   "cell_type": "code",
   "execution_count": 15,
   "id": "82f292f0",
   "metadata": {},
   "outputs": [
    {
     "name": "stdout",
     "output_type": "stream",
     "text": [
      "SESSION TIME (MIN)\n",
      "NG\n",
      "    Control mean: 3.62\n",
      "    Trending mean: 4.05\n",
      "    Trending advantage: 12.0%\n",
      "    Ttest_indResult(statistic=-4.5568548694063695, pvalue=5.232449292427866e-06)\n",
      "PK\n",
      "    Control mean: 1.48\n",
      "    Trending mean: 1.59\n",
      "    Trending advantage: 7.5%\n",
      "    Ttest_indResult(statistic=-3.6000194316132057, pvalue=0.0003185180969607342)\n",
      "TZ\n",
      "    Control mean: 2.16\n",
      "    Trending mean: 2.64\n",
      "    Trending advantage: 22.4%\n",
      "    Ttest_indResult(statistic=-12.003759868694605, pvalue=3.92919065802522e-33)\n",
      "UG\n",
      "    Control mean: 2.93\n",
      "    Trending mean: 3.65\n",
      "    Trending advantage: 24.4%\n",
      "    Ttest_indResult(statistic=-8.71545388978544, pvalue=3.2058046455092798e-18)\n"
     ]
    }
   ],
   "source": [
    "print(\"SESSION TIME (MIN)\")\n",
    "for name, group in user.groupby(\"country\"):\n",
    "    ttest(name, group, \"mean_session_min\")"
   ]
  },
  {
   "cell_type": "code",
   "execution_count": 16,
   "id": "05a451e8",
   "metadata": {},
   "outputs": [],
   "source": [
    "user[\"total_session_time\"] = user[\"sessions\"] * user[\"mean_session_min\"]"
   ]
  },
  {
   "cell_type": "code",
   "execution_count": 17,
   "id": "20adb98c",
   "metadata": {},
   "outputs": [
    {
     "data": {
      "text/html": [
       "<div>\n",
       "<style scoped>\n",
       "    .dataframe tbody tr th:only-of-type {\n",
       "        vertical-align: middle;\n",
       "    }\n",
       "\n",
       "    .dataframe tbody tr th {\n",
       "        vertical-align: top;\n",
       "    }\n",
       "\n",
       "    .dataframe thead th {\n",
       "        text-align: right;\n",
       "    }\n",
       "</style>\n",
       "<table border=\"1\" class=\"dataframe\">\n",
       "  <thead>\n",
       "    <tr style=\"text-align: right;\">\n",
       "      <th>country</th>\n",
       "      <th>NG</th>\n",
       "      <th>PK</th>\n",
       "      <th>TZ</th>\n",
       "      <th>UG</th>\n",
       "    </tr>\n",
       "    <tr>\n",
       "      <th>experiment_group</th>\n",
       "      <th></th>\n",
       "      <th></th>\n",
       "      <th></th>\n",
       "      <th></th>\n",
       "    </tr>\n",
       "  </thead>\n",
       "  <tbody>\n",
       "    <tr>\n",
       "      <th>control</th>\n",
       "      <td>20.896831</td>\n",
       "      <td>3.717367</td>\n",
       "      <td>6.606925</td>\n",
       "      <td>11.031064</td>\n",
       "    </tr>\n",
       "    <tr>\n",
       "      <th>trending-articles</th>\n",
       "      <td>21.580839</td>\n",
       "      <td>3.406447</td>\n",
       "      <td>8.127728</td>\n",
       "      <td>15.241820</td>\n",
       "    </tr>\n",
       "  </tbody>\n",
       "</table>\n",
       "</div>"
      ],
      "text/plain": [
       "country                   NG        PK        TZ         UG\n",
       "experiment_group                                           \n",
       "control            20.896831  3.717367  6.606925  11.031064\n",
       "trending-articles  21.580839  3.406447  8.127728  15.241820"
      ]
     },
     "execution_count": 17,
     "metadata": {},
     "output_type": "execute_result"
    }
   ],
   "source": [
    "user.groupby([\"experiment_group\", \"country\"])[\"total_session_time\"].mean().unstack()"
   ]
  },
  {
   "cell_type": "code",
   "execution_count": 18,
   "id": "d7b2a5fe",
   "metadata": {},
   "outputs": [
    {
     "name": "stdout",
     "output_type": "stream",
     "text": [
      "TOTAL SESSION TIME (MIN)\n",
      "NG\n",
      "    Control mean: 20.9\n",
      "    Trending mean: 21.58\n",
      "    Trending advantage: 3.3%\n",
      "    Ttest_indResult(statistic=-0.2906064475806428, pvalue=0.771356289796685)\n",
      "PK\n",
      "    Control mean: 3.72\n",
      "    Trending mean: 3.41\n",
      "    Trending advantage: -8.4%\n",
      "    Ttest_indResult(statistic=0.9109888659658609, pvalue=0.3623069413359067)\n",
      "TZ\n",
      "    Control mean: 6.61\n",
      "    Trending mean: 8.13\n",
      "    Trending advantage: 23.0%\n",
      "    Ttest_indResult(statistic=-2.886810954163714, pvalue=0.003894163328956138)\n",
      "UG\n",
      "    Control mean: 11.03\n",
      "    Trending mean: 15.24\n",
      "    Trending advantage: 38.2%\n",
      "    Ttest_indResult(statistic=-3.712564952447016, pvalue=0.00020605260072266204)\n"
     ]
    }
   ],
   "source": [
    "print(\"TOTAL SESSION TIME (MIN)\")\n",
    "for name, group in user.groupby(\"country\"):\n",
    "    ttest(name, group, \"total_session_time\")"
   ]
  },
  {
   "cell_type": "markdown",
   "id": "219a59cf",
   "metadata": {},
   "source": [
    "### Second-week new reader retention"
   ]
  },
  {
   "cell_type": "code",
   "execution_count": 19,
   "id": "6227d5b8",
   "metadata": {},
   "outputs": [],
   "source": [
    "uncensored_cutoff = pd.Timestamp('2022-01-08') - pd.Timedelta(weeks=2)\n",
    "uncensored_user = user.query(\"experiment_entry <= @uncensored_cutoff\")"
   ]
  },
  {
   "cell_type": "code",
   "execution_count": 20,
   "id": "b55150a3",
   "metadata": {},
   "outputs": [],
   "source": [
    "def retention_rate(df):\n",
    "    return df[\"second_week_retained\"].sum() / len(df)"
   ]
  },
  {
   "cell_type": "code",
   "execution_count": 21,
   "id": "828e4d96",
   "metadata": {},
   "outputs": [
    {
     "data": {
      "text/plain": [
       "experiment_group\n",
       "control              9.0%\n",
       "trending-articles    9.4%\n",
       "dtype: object"
      ]
     },
     "execution_count": 21,
     "metadata": {},
     "output_type": "execute_result"
    }
   ],
   "source": [
    "uncensored_user.groupby(\"experiment_group\").apply(retention_rate).apply(pct_str)"
   ]
  },
  {
   "cell_type": "code",
   "execution_count": 22,
   "id": "2621e24f",
   "metadata": {},
   "outputs": [
    {
     "data": {
      "text/html": [
       "<div>\n",
       "<style scoped>\n",
       "    .dataframe tbody tr th:only-of-type {\n",
       "        vertical-align: middle;\n",
       "    }\n",
       "\n",
       "    .dataframe tbody tr th {\n",
       "        vertical-align: top;\n",
       "    }\n",
       "\n",
       "    .dataframe thead th {\n",
       "        text-align: right;\n",
       "    }\n",
       "</style>\n",
       "<table border=\"1\" class=\"dataframe\">\n",
       "  <thead>\n",
       "    <tr style=\"text-align: right;\">\n",
       "      <th>country</th>\n",
       "      <th>NG</th>\n",
       "      <th>PK</th>\n",
       "      <th>TZ</th>\n",
       "      <th>UG</th>\n",
       "    </tr>\n",
       "    <tr>\n",
       "      <th>experiment_group</th>\n",
       "      <th></th>\n",
       "      <th></th>\n",
       "      <th></th>\n",
       "      <th></th>\n",
       "    </tr>\n",
       "  </thead>\n",
       "  <tbody>\n",
       "    <tr>\n",
       "      <th>control</th>\n",
       "      <td>12.2%</td>\n",
       "      <td>5.7%</td>\n",
       "      <td>10.6%</td>\n",
       "      <td>12.7%</td>\n",
       "    </tr>\n",
       "    <tr>\n",
       "      <th>trending-articles</th>\n",
       "      <td>11.7%</td>\n",
       "      <td>6.1%</td>\n",
       "      <td>11.1%</td>\n",
       "      <td>14.2%</td>\n",
       "    </tr>\n",
       "  </tbody>\n",
       "</table>\n",
       "</div>"
      ],
      "text/plain": [
       "country               NG    PK     TZ     UG\n",
       "experiment_group                            \n",
       "control            12.2%  5.7%  10.6%  12.7%\n",
       "trending-articles  11.7%  6.1%  11.1%  14.2%"
      ]
     },
     "execution_count": 22,
     "metadata": {},
     "output_type": "execute_result"
    }
   ],
   "source": [
    "(\n",
    "    uncensored_user\n",
    "    .groupby([\"experiment_group\", \"country\"])\n",
    "    .apply(retention_rate)\n",
    "    .unstack()\n",
    "    .applymap(pct_str)\n",
    ")"
   ]
  },
  {
   "cell_type": "markdown",
   "id": "7d327fff",
   "metadata": {},
   "source": [
    "#"
   ]
  }
 ],
 "metadata": {
  "kernelspec": {
   "display_name": "Python 3 (ipykernel)",
   "language": "python",
   "name": "python3"
  },
  "language_info": {
   "codemirror_mode": {
    "name": "ipython",
    "version": 3
   },
   "file_extension": ".py",
   "mimetype": "text/x-python",
   "name": "python",
   "nbconvert_exporter": "python",
   "pygments_lexer": "ipython3",
   "version": "3.7.11"
  },
  "toc-autonumbering": false,
  "toc-showcode": false
 },
 "nbformat": 4,
 "nbformat_minor": 5
}
