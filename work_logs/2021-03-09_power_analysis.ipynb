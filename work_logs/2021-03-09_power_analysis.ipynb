{
 "cells": [
  {
   "cell_type": "code",
   "execution_count": 1,
   "metadata": {},
   "outputs": [],
   "source": [
    "import wmfdata as wmf"
   ]
  },
  {
   "cell_type": "markdown",
   "metadata": {},
   "source": [
    "# Data collection"
   ]
  },
  {
   "cell_type": "code",
   "execution_count": 30,
   "metadata": {},
   "outputs": [],
   "source": [
    "QUERY = \"\"\"\n",
    "SELECT\n",
    "  FIRST(country) AS country,\n",
    "  LAST(app_version) as app_version,\n",
    "  AVG(pageviews) AS avg_daily_pageviews,\n",
    "  COUNT(*) AS days_active\n",
    "FROM (\n",
    "  SELECT\n",
    "    event.user_id AS user_id,\n",
    "    FIRST(geocoded_data['country']) AS country,\n",
    "    LAST(event.app_version) AS app_version,\n",
    "    COUNT(DISTINCT event.pageview_token) AS pageviews\n",
    "  FROM event.inukapageview\n",
    "  WHERE\n",
    "    year = 2021\n",
    "    AND (\n",
    "      month = 1 AND day >= 19\n",
    "      OR month = 2\n",
    "      OR month = 3 AND day < 2\n",
    "    )\n",
    "    AND event.client_type = \"kaios-app\"\n",
    "    AND NOT event.is_main_page\n",
    "    AND geocoded_data['country'] NOT IN (\"India\", \"United States\")\n",
    "  GROUP BY\n",
    "    event.user_id,\n",
    "    month, day\n",
    ") user_days\n",
    "GROUP BY user_id\n",
    "\"\"\"\n",
    "\n",
    "avg_daily_pageviews_per_user = wmf.spark.run(QUERY, session_type=\"yarn-large\")"
   ]
  },
  {
   "cell_type": "code",
   "execution_count": 31,
   "metadata": {},
   "outputs": [
    {
     "data": {
      "text/plain": [
       "app_version\n",
       "0.0.0          1309\n",
       "1.0.0           643\n",
       "1.0.0.1231       20\n",
       "1.1.0            63\n",
       "1.2.0         17853\n",
       "dtype: int64"
      ]
     },
     "execution_count": 31,
     "metadata": {},
     "output_type": "execute_result"
    }
   ],
   "source": [
    "avg_daily_pageviews_per_user.groupby('app_version').size()"
   ]
  },
  {
   "cell_type": "code",
   "execution_count": 33,
   "metadata": {},
   "outputs": [
    {
     "data": {
      "text/plain": [
       "country\n",
       "Uganda          3448\n",
       "Pakistan        3396\n",
       "Nigeria         2863\n",
       "Tanzania        2358\n",
       "Puerto Rico      802\n",
       "Portugal         694\n",
       "Cameroon         570\n",
       "Canada           406\n",
       "Egypt            347\n",
       "Mexico           321\n",
       "Ivory Coast      293\n",
       "DR Congo         250\n",
       "Russia           239\n",
       "Germany          230\n",
       "South Africa     218\n",
       "Madagascar       213\n",
       "Rwanda           188\n",
       "Zambia           185\n",
       "Mali             151\n",
       "Benin            146\n",
       "dtype: int64"
      ]
     },
     "execution_count": 33,
     "metadata": {},
     "output_type": "execute_result"
    }
   ],
   "source": [
    "avg_daily_pageviews_per_user.groupby(\"country\").size().sort_values(ascending=False).head(20)"
   ]
  },
  {
   "cell_type": "code",
   "execution_count": 35,
   "metadata": {},
   "outputs": [],
   "source": [
    "target_users = (\n",
    "  avg_daily_pageviews_per_user\n",
    "  .query(\n",
    "    \"country in ('Uganda', 'Pakistan', 'Nigeria', 'Tanzania') &\"\n",
    "    \"app_version == '1.2.0'\"\n",
    "  )\n",
    ")"
   ]
  },
  {
   "cell_type": "code",
   "execution_count": 38,
   "metadata": {},
   "outputs": [
    {
     "data": {
      "text/plain": [
       "12033"
      ]
     },
     "execution_count": 38,
     "metadata": {},
     "output_type": "execute_result"
    }
   ],
   "source": [
    "len(target_users)"
   ]
  },
  {
   "cell_type": "code",
   "execution_count": 39,
   "metadata": {},
   "outputs": [
    {
     "data": {
      "text/plain": [
       "3.81807134387336"
      ]
     },
     "execution_count": 39,
     "metadata": {},
     "output_type": "execute_result"
    }
   ],
   "source": [
    "target_users['avg_daily_pageviews'].mean()"
   ]
  },
  {
   "cell_type": "code",
   "execution_count": 28,
   "metadata": {},
   "outputs": [
    {
     "data": {
      "text/plain": [
       "4.256881261397582"
      ]
     },
     "execution_count": 28,
     "metadata": {},
     "output_type": "execute_result"
    }
   ],
   "source": [
    "target_users['avg_daily_pageviews'].std()"
   ]
  },
  {
   "cell_type": "markdown",
   "metadata": {},
   "source": [
    "# Power analysis\n",
    "The included users will be split 50-50 into control and trending articles groups. Our main metric will likely be users' average pageviews per day active, and we decided that smallest change in it that we would consider meaningful is 10%.\n",
    "\n",
    "Looking at the previous 6 weeks of data (2020-01-08 ≤ t < 2020-03-02), the top 4 countries besides India and the United States had the following number of unique users running the most recent version of the app (1.2.0):\n",
    "```\n",
    "Uganda          3448\n",
    "Pakistan        3396\n",
    "Nigeria         2863\n",
    "Tanzania        2358\n",
    "```\n",
    "\n",
    "(We are interested in emerging markets, which rules out the United States, and had to abandon plans to run the experiment with Indian users because of our complete inability to get Jio to release a new version of the app).\n",
    "\n",
    "This totals 12,033 users who would have been included in our test, or roughly 6,016 for each group. These users averaged 3.818 pageviews per active day (PPAD), with a standard deviation of 4.257. A 10% increase in PPAD would give 4.200 in the experimental group. \n",
    "\n",
    "My current plan is to use a [Mann–Whitney U test](https://en.wikipedia.org/wiki/Mann%E2%80%93Whitney_U_test) to test the difference in PPAD. I used [G\\*Power](https://www.psychologie.hhu.de/arbeitsgruppen/allgemeine-psychologie-und-arbeitspsychologie/gpower.html) 3.1 to calculate the power achieved assuming a (1) a two-tailed test, (2) a 0.01 significance level, and (3) the minimum asymptotic relative efficiency (\"min ARE\") method (the power varies with the distribution of response variable, but this method uses the worst case scenario).\n",
    "\n",
    "Under these conservative assumptions, we get a power (the probability of the test returning a false negative) of 0.977.\n",
    "![2021-03-09 GPower calculation](2021-03-09_GPower_calculation.png)\n",
    "\n",
    "After we release the app version with the experiment, it should quickly reach our users. It seems that KaiOS devices automatically install app updates every day by default, and indeed we see very few users running old version of the app (there has never been an app with version 0.0.0, so those users are not real):\n",
    "```\n",
    "app_version\n",
    "0.0.0          1309\n",
    "1.0.0           643\n",
    "1.0.0.1231       20\n",
    "1.1.0            63\n",
    "1.2.0         17853\n",
    "```\n",
    "\n",
    "I may change the analysis methodology later (e.g. replacing the arbitrary calendar day with our already-existing concept of sessions or adding more predictor variables beyond group membership), but these should only increase the power.\n",
    "\n",
    "Therefore, the experiment should have sufficient power if we run it for **6 weeks** on app users in **Nigeria, Uganda, Pakistan and Tanzania**.\n"
   ]
  }
 ],
 "metadata": {
  "kernelspec": {
   "display_name": "Python 3 (ipykernel)",
   "language": "python",
   "name": "python3"
  },
  "language_info": {
   "codemirror_mode": {
    "name": "ipython",
    "version": 3
   },
   "file_extension": ".py",
   "mimetype": "text/x-python",
   "name": "python",
   "nbconvert_exporter": "python",
   "pygments_lexer": "ipython3",
   "version": "3.7.11"
  }
 },
 "nbformat": 4,
 "nbformat_minor": 4
}
