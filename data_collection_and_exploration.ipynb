{
 "cells": [
  {
   "cell_type": "code",
   "execution_count": 134,
   "id": "6ea76fb0",
   "metadata": {},
   "outputs": [],
   "source": [
    "import matplotlib.pyplot as plt\n",
    "import numpy as np\n",
    "import pandas as pd\n",
    "import wmfdata as wmf\n",
    "\n",
    "from wmfdata.utils import (\n",
    "    pct_str, \n",
    "    pd_display_all\n",
    ")"
   ]
  },
  {
   "cell_type": "code",
   "execution_count": 45,
   "id": "ff9d68c3",
   "metadata": {},
   "outputs": [],
   "source": [
    "wmf.charting.set_mpl_style()"
   ]
  },
  {
   "cell_type": "markdown",
   "id": "59141a1e",
   "metadata": {},
   "source": [
    "The experiment was released to the KaiOS store on 8 April, in version 1.6.0 of the app. On 5 May, we [fixed](https://www.mediawiki.org/w/index.php?title=Wikipedia_for_KaiOS/engagement1&diff=4563366&oldid=4520262) a vandalization of our config that prevent the recommendations from being shown."
   ]
  },
  {
   "cell_type": "code",
   "execution_count": 150,
   "id": "c3e8171d",
   "metadata": {},
   "outputs": [],
   "source": [
    "PRESTO_PARTITION_DATE = (\n",
    "    \"CONCAT(\"\n",
    "        \"CAST(year AS VARCHAR), '-', \"\n",
    "        \"LPAD(CAST(month AS VARCHAR), 2, '0'), '-', \"\n",
    "        \"LPAD(CAST(day AS VARCHAR), 2, '0')\"\n",
    "    \")\"\n",
    ")\n",
    "\n",
    "user = wmf.presto.run(f\"\"\"\n",
    "WITH pageview AS (\n",
    "    SELECT\n",
    "        event.pageview_token AS pageview_id,\n",
    "        event.session_id AS session_id,\n",
    "        event.user_id AS user_id,\n",
    "        MIN(FROM_ISO8601_TIMESTAMP(meta.dt)) AS start_time,\n",
    "        MAX(\n",
    "            -- Convert milliseconds to minutes\n",
    "            CAST(event.page_visible_time AS REAL) / 1000 / 60\n",
    "        ) AS page_viewing_min,\n",
    "        -- If any users shift groups or countries, the aggregation\n",
    "        -- results in an concatenated string, so those users can be identified and excluded\n",
    "        ARRAY_JOIN(SET_AGG(geocoded_data['country_code']), '-') AS country,\n",
    "        REDUCE(\n",
    "            SET_UNION(event.tests), \n",
    "            NULL, \n",
    "            (i, x) -> IF(\n",
    "                x.name = '2021-KaiOS-app-homepage-content-suggestions', \n",
    "                IF(i IS NULL, x.\"group\", CONCAT(i, '-', x.\"group\")),\n",
    "                i\n",
    "            ),\n",
    "            x -> x\n",
    "        ) AS experiment_group\n",
    "    FROM event.inukapageview\n",
    "    WHERE\n",
    "        {PRESTO_PARTITION_DATE} >= '2021-05-06'\n",
    "        AND geocoded_data['country_code'] IN ('NG', 'PK', 'TZ', 'UG')\n",
    "        AND event.app_version >= '1.6.0'\n",
    "        AND event.is_production\n",
    "    GROUP BY\n",
    "        event.pageview_token,\n",
    "        event.session_id,\n",
    "        event.user_id\n",
    "), session AS (\n",
    "    SELECT\n",
    "        session_id,\n",
    "        user_id,\n",
    "        MIN(start_time) AS start_time,\n",
    "        SUM(page_viewing_min) AS page_viewing_min,\n",
    "        ARRAY_JOIN(SET_AGG(country), '-') AS country,\n",
    "        ARRAY_JOIN(SET_AGG(experiment_group), '-') AS experiment_group\n",
    "    FROM pageview\n",
    "    GROUP BY\n",
    "        user_id,\n",
    "        session_id\n",
    ")\n",
    "SELECT\n",
    "    user_id,\n",
    "    MIN(start_time) AS experiment_entry,\n",
    "    CAST(DATE_DIFF('second', MIN(start_time), CURRENT_TIMESTAMP) AS REAL) / 60 / 60 / 24  AS days_in_experiment,\n",
    "    COUNT(1) AS sessions,\n",
    "    AVG(page_viewing_min) AS mean_session_min,\n",
    "    ARRAY_JOIN(SET_AGG(country), '-') AS country,\n",
    "    ARRAY_JOIN(SET_AGG(experiment_group), '-') AS experiment_group\n",
    "FROM session\n",
    "GROUP BY user_id\n",
    "\"\"\").assign(\n",
    "    experiment_entry=lambda df: pd.to_datetime(df[\"experiment_entry\"]),\n",
    "    country=lambda df: df[\"country\"].astype(\"category\"),\n",
    "    experiment_group=lambda df: df[\"experiment_group\"].astype(\"category\")\n",
    ")"
   ]
  },
  {
   "cell_type": "code",
   "execution_count": 151,
   "id": "ce53bff4",
   "metadata": {},
   "outputs": [
    {
     "name": "stdout",
     "output_type": "stream",
     "text": [
      "<class 'pandas.core.frame.DataFrame'>\n",
      "RangeIndex: 40280 entries, 0 to 40279\n",
      "Data columns (total 7 columns):\n",
      " #   Column              Non-Null Count  Dtype              \n",
      "---  ------              --------------  -----              \n",
      " 0   user_id             40280 non-null  object             \n",
      " 1   experiment_entry    40280 non-null  datetime64[ns, UTC]\n",
      " 2   days_in_experiment  40280 non-null  float64            \n",
      " 3   sessions            40280 non-null  int64              \n",
      " 4   mean_session_min    40280 non-null  float64            \n",
      " 5   country             40280 non-null  category           \n",
      " 6   experiment_group    40280 non-null  category           \n",
      "dtypes: category(2), datetime64[ns, UTC](1), float64(2), int64(1), object(1)\n",
      "memory usage: 1.6+ MB\n"
     ]
    }
   ],
   "source": [
    "user.info()"
   ]
  },
  {
   "cell_type": "code",
   "execution_count": null,
   "id": "bc51a8d2",
   "metadata": {},
   "outputs": [],
   "source": [
    "user.head()"
   ]
  },
  {
   "cell_type": "code",
   "execution_count": null,
   "id": "130c9c4b",
   "metadata": {},
   "outputs": [],
   "source": [
    "session.head()"
   ]
  },
  {
   "cell_type": "code",
   "execution_count": 50,
   "id": "a505e24f",
   "metadata": {},
   "outputs": [
    {
     "data": {
      "text/html": [
       "<div>\n",
       "<style scoped>\n",
       "    .dataframe tbody tr th:only-of-type {\n",
       "        vertical-align: middle;\n",
       "    }\n",
       "\n",
       "    .dataframe tbody tr th {\n",
       "        vertical-align: top;\n",
       "    }\n",
       "\n",
       "    .dataframe thead th {\n",
       "        text-align: right;\n",
       "    }\n",
       "</style>\n",
       "<table border=\"1\" class=\"dataframe\">\n",
       "  <thead>\n",
       "    <tr style=\"text-align: right;\">\n",
       "      <th>experiment_group</th>\n",
       "      <th>control</th>\n",
       "      <th>trending-articles</th>\n",
       "    </tr>\n",
       "    <tr>\n",
       "      <th>country</th>\n",
       "      <th></th>\n",
       "      <th></th>\n",
       "    </tr>\n",
       "  </thead>\n",
       "  <tbody>\n",
       "    <tr>\n",
       "      <th>PK</th>\n",
       "      <td>13091</td>\n",
       "      <td>12962</td>\n",
       "    </tr>\n",
       "    <tr>\n",
       "      <th>TZ</th>\n",
       "      <td>8963</td>\n",
       "      <td>9174</td>\n",
       "    </tr>\n",
       "    <tr>\n",
       "      <th>NG</th>\n",
       "      <td>5985</td>\n",
       "      <td>5585</td>\n",
       "    </tr>\n",
       "    <tr>\n",
       "      <th>UG</th>\n",
       "      <td>5140</td>\n",
       "      <td>5479</td>\n",
       "    </tr>\n",
       "  </tbody>\n",
       "</table>\n",
       "</div>"
      ],
      "text/plain": [
       "experiment_group  control  trending-articles\n",
       "country                                     \n",
       "PK                  13091              12962\n",
       "TZ                   8963               9174\n",
       "NG                   5985               5585\n",
       "UG                   5140               5479"
      ]
     },
     "execution_count": 50,
     "metadata": {},
     "output_type": "execute_result"
    }
   ],
   "source": [
    "(\n",
    "    pd\n",
    "    .pivot_table(session, values=\"session_id\", index=\"country\", columns=\"experiment_group\", aggfunc=len)\n",
    "    .sort_values('control', ascending=False)\n",
    "    .head(20)\n",
    ")"
   ]
  },
  {
   "cell_type": "markdown",
   "id": "297a26f7",
   "metadata": {},
   "source": [
    "# Page visible time"
   ]
  },
  {
   "cell_type": "code",
   "execution_count": 53,
   "id": "120b6693",
   "metadata": {},
   "outputs": [
    {
     "data": {
      "text/plain": [
       "count     66379.000000\n",
       "mean         23.422995\n",
       "std        3445.046123\n",
       "min      -91119.664000\n",
       "25%           0.275375\n",
       "50%           1.066017\n",
       "75%           3.016633\n",
       "max      757456.940000\n",
       "Name: page_visible_min, dtype: float64"
      ]
     },
     "execution_count": 53,
     "metadata": {},
     "output_type": "execute_result"
    }
   ],
   "source": [
    "session[\"page_visible_min\"].describe()"
   ]
  },
  {
   "cell_type": "code",
   "execution_count": 61,
   "id": "b5005026",
   "metadata": {},
   "outputs": [
    {
     "data": {
      "text/plain": [
       "28793    757456.940000\n",
       "5921     404880.600000\n",
       "3315     197977.300000\n",
       "37038     51575.300000\n",
       "63891       369.069150\n",
       "35313       302.811580\n",
       "16707       283.595400\n",
       "17603       230.817320\n",
       "11603       210.945100\n",
       "37623       197.378560\n",
       "             ...      \n",
       "59221         0.000883\n",
       "66038         0.000883\n",
       "58030         0.000833\n",
       "58539         0.000817\n",
       "49115         0.000817\n",
       "56734         0.000783\n",
       "45218         0.000717\n",
       "6233         -0.396500\n",
       "29733        -0.675867\n",
       "45285    -91119.664000\n",
       "Name: page_visible_min, Length: 66379, dtype: float64"
      ]
     },
     "metadata": {},
     "output_type": "display_data"
    }
   ],
   "source": [
    "with pd.option_context(\"display.min_rows\", 20):\n",
    "    display(session[\"page_visible_min\"].sort_values(ascending=False))"
   ]
  },
  {
   "cell_type": "markdown",
   "id": "e6caf908",
   "metadata": {},
   "source": [
    "Some sessions have pathological lengths. Let's remove those sessions' users entirely."
   ]
  },
  {
   "cell_type": "code",
   "execution_count": 62,
   "id": "5b9d2acb",
   "metadata": {},
   "outputs": [],
   "source": [
    "pathological_sessions = session.query(\"page_visible_min < 0 or page_visible_min >= 600\")\n",
    "users_to_drop = pathological_sessions[\"user_id\"].unique()\n",
    "sessions_to_drop = sessions.query(\"user_id in @users_to_drop\")\n",
    "session = session.query(\"session_id not in @sessions_to_drop\")\n",
    "print(f\"Dropped {len(sessions_to_drop)} sessions.\")"
   ]
  },
  {
   "cell_type": "code",
   "execution_count": 66,
   "id": "a09bf207",
   "metadata": {},
   "outputs": [
    {
     "name": "stdout",
     "output_type": "stream",
     "text": [
      "1.8%\n"
     ]
    }
   ],
   "source": [
    "# Proportion of sessions lasting 30 minutes or longer\n",
    "print(pct_str(session[\"page_visible_min\"][lambda x: x >= 30].pipe(len) / len(session)))"
   ]
  },
  {
   "cell_type": "code",
   "execution_count": 67,
   "id": "e5604ee6",
   "metadata": {},
   "outputs": [
    {
     "data": {
      "image/png": "[encoded data removed]",
      "text/plain": [
       "<Figure size 1008x504 with 1 Axes>"
      ]
     },
     "metadata": {
      "needs_background": "light"
     },
     "output_type": "display_data"
    }
   ],
   "source": [
    "session[\"page_visible_min\"][lambda x: x < 30].plot(kind='hist', bins=250);"
   ]
  },
  {
   "cell_type": "code",
   "execution_count": 64,
   "id": "b9275556",
   "metadata": {},
   "outputs": [
    {
     "data": {
      "text/plain": [
       "count                                  66300\n",
       "mean     2021-05-30 14:49:48.026987008+00:00\n",
       "min         2021-05-06 00:00:00.350000+00:00\n",
       "25%      2021-05-18 14:21:31.488750080+00:00\n",
       "50%      2021-05-31 04:27:36.006000128+00:00\n",
       "75%      2021-06-11 15:49:04.591249920+00:00\n",
       "max         2021-06-22 18:59:51.113000+00:00\n",
       "Name: start_dt, dtype: object"
      ]
     },
     "execution_count": 64,
     "metadata": {},
     "output_type": "execute_result"
    }
   ],
   "source": [
    "session[\"start_dt\"].describe(datetime_is_numeric=True)"
   ]
  },
  {
   "cell_type": "code",
   "execution_count": null,
   "id": "5ebede5a",
   "metadata": {},
   "outputs": [],
   "source": [
    "session = session.assign(\n",
    "    time_since_start=lambda df: (df.attrs[\"creation_time\"] - df[\"start_dt\"]).dt.total_seconds() / 60\n",
    ")\n",
    "\n",
    "user = session.groupby(\"user_id\").aggregate(\n",
    "    avg_session_min=pd.NamedAgg(column=\"page_visible_min\", aggfunc=\"mean\"),\n",
    "    sessions=pd.NamedAgg(column=\"session_id\", aggfunc=\"count\"),\n",
    "    min_in_experiment=pd.NamedAgg(column=\"time_since_start\", aggfunc=\"max\"),\n",
    "    country=pd.NamedAgg(column=\"country\", aggfunc=\"first\"),\n",
    "    experiment_group=pd.NamedAgg(column=\"experiment_group\", aggfunc=\"first\")\n",
    ").assign(\n",
    "    lg_min_in_experiment=lambda df: np.log10(df[\"min_in_experiment\"])\n",
    ")\n",
    "\n",
    "user.head()"
   ]
  },
  {
   "cell_type": "code",
   "execution_count": 74,
   "id": "cd313481",
   "metadata": {},
   "outputs": [
    {
     "data": {
      "text/html": [
       "<div>\n",
       "<style scoped>\n",
       "    .dataframe tbody tr th:only-of-type {\n",
       "        vertical-align: middle;\n",
       "    }\n",
       "\n",
       "    .dataframe tbody tr th {\n",
       "        vertical-align: top;\n",
       "    }\n",
       "\n",
       "    .dataframe thead th {\n",
       "        text-align: right;\n",
       "    }\n",
       "</style>\n",
       "<table border=\"1\" class=\"dataframe\">\n",
       "  <thead>\n",
       "    <tr style=\"text-align: right;\">\n",
       "      <th>experiment_group</th>\n",
       "      <th>control</th>\n",
       "      <th>trending-articles</th>\n",
       "      <th>All</th>\n",
       "    </tr>\n",
       "    <tr>\n",
       "      <th>country</th>\n",
       "      <th></th>\n",
       "      <th></th>\n",
       "      <th></th>\n",
       "    </tr>\n",
       "  </thead>\n",
       "  <tbody>\n",
       "    <tr>\n",
       "      <th>NG</th>\n",
       "      <td>2892</td>\n",
       "      <td>2794</td>\n",
       "      <td>5686</td>\n",
       "    </tr>\n",
       "    <tr>\n",
       "      <th>PK</th>\n",
       "      <td>8898</td>\n",
       "      <td>8783</td>\n",
       "      <td>17681</td>\n",
       "    </tr>\n",
       "    <tr>\n",
       "      <th>TZ</th>\n",
       "      <td>5346</td>\n",
       "      <td>5297</td>\n",
       "      <td>10643</td>\n",
       "    </tr>\n",
       "    <tr>\n",
       "      <th>UG</th>\n",
       "      <td>2702</td>\n",
       "      <td>2686</td>\n",
       "      <td>5388</td>\n",
       "    </tr>\n",
       "    <tr>\n",
       "      <th>All</th>\n",
       "      <td>19838</td>\n",
       "      <td>19560</td>\n",
       "      <td>39398</td>\n",
       "    </tr>\n",
       "  </tbody>\n",
       "</table>\n",
       "</div>"
      ],
      "text/plain": [
       "experiment_group  control  trending-articles    All\n",
       "country                                            \n",
       "NG                   2892               2794   5686\n",
       "PK                   8898               8783  17681\n",
       "TZ                   5346               5297  10643\n",
       "UG                   2702               2686   5388\n",
       "All                 19838              19560  39398"
      ]
     },
     "execution_count": 74,
     "metadata": {},
     "output_type": "execute_result"
    }
   ],
   "source": [
    "(\n",
    "    pd\n",
    "    .pivot_table(user, values=\"sessions\", index=\"country\", columns=\"experiment_group\", aggfunc=len, margins=True)\n",
    ")"
   ]
  },
  {
   "cell_type": "code",
   "execution_count": 75,
   "id": "0f31d766",
   "metadata": {},
   "outputs": [
    {
     "data": {
      "text/plain": [
       "count    39398.000000\n",
       "mean     35675.554289\n",
       "std      20365.610058\n",
       "min        172.796658\n",
       "25%      17965.647512\n",
       "50%      35969.652908\n",
       "75%      53887.725529\n",
       "max      68984.903758\n",
       "Name: min_in_experiment, dtype: float64"
      ]
     },
     "execution_count": 75,
     "metadata": {},
     "output_type": "execute_result"
    }
   ],
   "source": [
    "user[\"min_in_experiment\"].describe()"
   ]
  },
  {
   "cell_type": "code",
   "execution_count": 76,
   "id": "9a8b53b7",
   "metadata": {},
   "outputs": [
    {
     "name": "stdout",
     "output_type": "stream",
     "text": [
      "0.6%\n"
     ]
    }
   ],
   "source": [
    "# Proportion of users with ten sessions or more\n",
    "print(pct_str(user[\"sessions\"][lambda x: x >= 10].pipe(len) / len(user)))"
   ]
  },
  {
   "cell_type": "code",
   "execution_count": 89,
   "id": "943ff8e9",
   "metadata": {},
   "outputs": [
    {
     "data": {
      "image/png": "[encoded data removed]",
      "text/plain": [
       "<Figure size 1008x504 with 1 Axes>"
      ]
     },
     "metadata": {
      "needs_background": "light"
     },
     "output_type": "display_data"
    }
   ],
   "source": [
    "control_session_counts = user.query(\"experiment_group == 'control'\")[\"sessions\"][lambda x: x <= 10]\n",
    "trending_articles_session_counts = user.query(\"experiment_group == 'trending-articles'\")[\"sessions\"][lambda x: x <= 10]\n",
    "\n",
    "plt.hist([control_session_counts, trending_articles_session_counts], bins=9, label=[\"control\", \"trending_articles\"])\n",
    "plt.legend();"
   ]
  },
  {
   "cell_type": "code",
   "execution_count": 91,
   "id": "a70c24da",
   "metadata": {},
   "outputs": [
    {
     "data": {
      "text/plain": [
       "count    39398.000000\n",
       "mean         2.426601\n",
       "std          4.713506\n",
       "min          0.001167\n",
       "25%          0.352550\n",
       "50%          1.081997\n",
       "75%          2.553412\n",
       "max        173.118808\n",
       "Name: avg_session_min, dtype: float64"
      ]
     },
     "execution_count": 91,
     "metadata": {},
     "output_type": "execute_result"
    }
   ],
   "source": [
    "user[\"avg_session_min\"].describe()"
   ]
  },
  {
   "cell_type": "code",
   "execution_count": 92,
   "id": "42a3f265",
   "metadata": {},
   "outputs": [
    {
     "data": {
      "image/png": "[encoded data removed]",
      "text/plain": [
       "<Figure size 1008x504 with 1 Axes>"
      ]
     },
     "metadata": {
      "needs_background": "light"
     },
     "output_type": "display_data"
    }
   ],
   "source": [
    "control_session_lengths = user.query(\"experiment_group == 'control'\")[\"avg_session_min\"][lambda x: x <= 10]\n",
    "trending_articles_session_lengths = user.query(\"experiment_group == 'trending-articles'\")[\"avg_session_min\"][lambda x: x <= 10]\n",
    "\n",
    "plt.hist([control_session_lengths, trending_articles_session_lengths], bins=20, label=[\"control\", \"trending_articles\"])\n",
    "plt.legend();"
   ]
  },
  {
   "cell_type": "code",
   "execution_count": 93,
   "id": "d4b58ac7",
   "metadata": {},
   "outputs": [
    {
     "data": {
      "image/png": "[encoded data removed]",
      "text/plain": [
       "<Figure size 1008x504 with 1 Axes>"
      ]
     },
     "metadata": {
      "needs_background": "light"
     },
     "output_type": "display_data"
    }
   ],
   "source": [
    "user.plot(\n",
    "    kind=\"scatter\",\n",
    "    x=\"avg_session_min\",\n",
    "    y=\"sessions\",\n",
    "    xlim=(0, 60),\n",
    "    ylim=(0, 30)\n",
    ");"
   ]
  },
  {
   "cell_type": "code",
   "execution_count": 94,
   "id": "c228dec4",
   "metadata": {},
   "outputs": [
    {
     "data": {
      "text/html": [
       "<div>\n",
       "<style scoped>\n",
       "    .dataframe tbody tr th:only-of-type {\n",
       "        vertical-align: middle;\n",
       "    }\n",
       "\n",
       "    .dataframe tbody tr th {\n",
       "        vertical-align: top;\n",
       "    }\n",
       "\n",
       "    .dataframe thead th {\n",
       "        text-align: right;\n",
       "    }\n",
       "</style>\n",
       "<table border=\"1\" class=\"dataframe\">\n",
       "  <thead>\n",
       "    <tr style=\"text-align: right;\">\n",
       "      <th></th>\n",
       "      <th>avg_session_min</th>\n",
       "      <th>sessions</th>\n",
       "      <th>min_in_experiment</th>\n",
       "      <th>lg_min_in_experiment</th>\n",
       "    </tr>\n",
       "  </thead>\n",
       "  <tbody>\n",
       "    <tr>\n",
       "      <th>avg_session_min</th>\n",
       "      <td>1.000000</td>\n",
       "      <td>0.207162</td>\n",
       "      <td>0.028328</td>\n",
       "      <td>0.016446</td>\n",
       "    </tr>\n",
       "    <tr>\n",
       "      <th>sessions</th>\n",
       "      <td>0.207162</td>\n",
       "      <td>1.000000</td>\n",
       "      <td>0.121697</td>\n",
       "      <td>0.113578</td>\n",
       "    </tr>\n",
       "    <tr>\n",
       "      <th>min_in_experiment</th>\n",
       "      <td>0.028328</td>\n",
       "      <td>0.121697</td>\n",
       "      <td>1.000000</td>\n",
       "      <td>0.887439</td>\n",
       "    </tr>\n",
       "    <tr>\n",
       "      <th>lg_min_in_experiment</th>\n",
       "      <td>0.016446</td>\n",
       "      <td>0.113578</td>\n",
       "      <td>0.887439</td>\n",
       "      <td>1.000000</td>\n",
       "    </tr>\n",
       "  </tbody>\n",
       "</table>\n",
       "</div>"
      ],
      "text/plain": [
       "                      avg_session_min  sessions  min_in_experiment  \\\n",
       "avg_session_min              1.000000  0.207162           0.028328   \n",
       "sessions                     0.207162  1.000000           0.121697   \n",
       "min_in_experiment            0.028328  0.121697           1.000000   \n",
       "lg_min_in_experiment         0.016446  0.113578           0.887439   \n",
       "\n",
       "                      lg_min_in_experiment  \n",
       "avg_session_min                   0.016446  \n",
       "sessions                          0.113578  \n",
       "min_in_experiment                 0.887439  \n",
       "lg_min_in_experiment              1.000000  "
      ]
     },
     "execution_count": 94,
     "metadata": {},
     "output_type": "execute_result"
    }
   ],
   "source": [
    "user.corr()"
   ]
  },
  {
   "cell_type": "code",
   "execution_count": 95,
   "id": "19145130",
   "metadata": {},
   "outputs": [],
   "source": [
    "user.to_parquet('data/experiment_user.parquet')"
   ]
  },
  {
   "cell_type": "code",
   "execution_count": 96,
   "id": "8b997cc5",
   "metadata": {},
   "outputs": [],
   "source": [
    "session.to_parquet('data/experiment_session.parquet')"
   ]
  },
  {
   "cell_type": "code",
   "execution_count": null,
   "id": "17afdda4",
   "metadata": {},
   "outputs": [],
   "source": []
  }
 ],
 "metadata": {
  "kernelspec": {
   "display_name": "Python 3",
   "language": "python",
   "name": "python3"
  },
  "language_info": {
   "codemirror_mode": {
    "name": "ipython",
    "version": 3
   },
   "file_extension": ".py",
   "mimetype": "text/x-python",
   "name": "python",
   "nbconvert_exporter": "python",
   "pygments_lexer": "ipython3",
   "version": "3.7.10"
  }
 },
 "nbformat": 4,
 "nbformat_minor": 5
}
